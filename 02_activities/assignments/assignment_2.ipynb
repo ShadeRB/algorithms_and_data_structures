{
 "cells": [
  {
   "cell_type": "markdown",
   "metadata": {},
   "source": [
    "# Practice Interview\n",
    "\n",
    "## Objective\n",
    "\n",
    "_*The partner assignment aims to provide participants with the opportunity to practice coding in an interview context. You will analyze your partner's Assignment 1. Moreover, code reviews are common practice in a software development team. This assignment should give you a taste of the code review process.*_\n",
    "\n",
    "## Group Size\n",
    "\n",
    "Each group should have 2 people. You will be assigned a partner\n",
    "\n",
    "## Parts:\n",
    "- Part 1: Complete 1 of 3 questions\n",
    "- Part 2: Review your partner's Assignment 1 submission\n",
    "- Part 3: Perform code review of your partner's assignment 1 by answering the questions below\n",
    "- Part 3: Reflect on Assignment 1 and Assignment 2\n",
    "\n",
    "## Part 1:\n",
    "\n",
    "_*You will be assigned one of three problems based of your first name. Enter your first name, in all lower case, execute the code below, and that will tell you your assigned problem. Include the output as part of your submission (do not clear the output). The problems are based-off problems from Leetcode.*_"
   ]
  },
  {
   "cell_type": "code",
   "execution_count": 9,
   "metadata": {},
   "outputs": [
    {
     "name": "stdout",
     "output_type": "stream",
     "text": [
      "3\n"
     ]
    }
   ],
   "source": [
    "\n",
    "import hashlib\n",
    "\n",
    "def hash_to_range(input_string: str) -> int:\n",
    "    hash_object = hashlib.sha256(input_string.encode())\n",
    "    hash_int = int(hash_object.hexdigest(), 16)\n",
    "    return (hash_int % 3) + 1\n",
    "\n",
    "# Update with your first name in lowercase\n",
    "input_string = \"rituparna\"\n",
    "result = hash_to_range(input_string)\n",
    "print(result)\n"
   ]
  },
  {
   "cell_type": "markdown",
   "metadata": {},
   "source": [
    "<details>\n",
    "  <summary>Question 1</summary>\n",
    "\n",
    "  # Question One: Check Duplicates in Tree\n",
    "\n",
    "  Given the `root` of a binary tree, check whether it is contains a duplicate value. If a duplicate exists, return the duplicate value. If there are multiple duplicates, return the one with the closest distance to the root. If no duplicate exists, return -1.\n",
    "\n",
    "  ## Examples\n",
    "\n",
    "  ### Example 1\n",
    "\n",
    "  ![](./images/q1_ex1.png)\n",
    "\n",
    "  Input: `root = [1, 2, 2, 3, 5, 6, 7]` *What traversal method is this?*\n",
    "\n",
    "  Output: 2\n",
    "\n",
    "  ### Example 2\n",
    "\n",
    "  ![](./images/q1_ex2.png)\n",
    "\n",
    "  Input: `root = [1, 10, 2, 3, 10, 12, 12]`\n",
    "\n",
    "  Output: 10\n",
    "\n",
    "  ### Example 3\n",
    "\n",
    "  ![](./images/q1_ex3.png)\n",
    "\n",
    "  Input: `root = [10, 9, 8, 7]`\n",
    "\n",
    "  Output: -1\n",
    "\n",
    "</details>\n",
    "\n",
    "#### Starter Code for Question 1"
   ]
  },
  {
   "cell_type": "code",
   "execution_count": 10,
   "metadata": {},
   "outputs": [
    {
     "ename": "IndentationError",
     "evalue": "expected an indented block (2850872121.py, line 8)",
     "output_type": "error",
     "traceback": [
      "\u001b[1;36m  Cell \u001b[1;32mIn[10], line 8\u001b[1;36m\u001b[0m\n\u001b[1;33m    # TODO\u001b[0m\n\u001b[1;37m          ^\u001b[0m\n\u001b[1;31mIndentationError\u001b[0m\u001b[1;31m:\u001b[0m expected an indented block\n"
     ]
    }
   ],
   "source": [
    "# Definition for a binary tree node.\n",
    "# class TreeNode(object):\n",
    "#     def __init__(self, val = 0, left = None, right = None):\n",
    "#         self.val = val\n",
    "#         self.left = left\n",
    "#         self.right = right\n",
    "def is_duplicate(root: TreeNode) -> int:\n",
    "  # TODO"
   ]
  },
  {
   "cell_type": "markdown",
   "metadata": {},
   "source": [
    "<details>\n",
    "  <summary>Question 2</summary>\n",
    "\n",
    "  # Question Two: Path to Leaves\n",
    "\n",
    "  Given the `root` of a binary tree, return all root to leaf paths in any order.\n",
    "\n",
    "  ## Examples\n",
    "\n",
    "  ### Example 1\n",
    "\n",
    "  ![](./images/q1_ex1.png)\n",
    "\n",
    "  Input: `root = [1, 2, 2, 3, 5, 6, 7]` *What traversal method is this?*\n",
    "\n",
    "  Output: [[1, 2, 3], [1, 2, 5], [1, 2, 6], [1, 2, 7]]\n",
    "\n",
    "  ### Example 2\n",
    "\n",
    "  ![](./images/q1_ex3.png)\n",
    "\n",
    "  Input: `root = [10, 9, 7, 8]`\n",
    "\n",
    "  Output: [[10, 7], [10, 9, 8]]\n",
    "\n",
    "</details>\n",
    "\n",
    "#### Starter Code for Question 2"
   ]
  },
  {
   "cell_type": "code",
   "execution_count": null,
   "metadata": {},
   "outputs": [],
   "source": [
    "# Definition for a binary tree node.\n",
    "# class TreeNode(object):\n",
    "#     def __init__(self, val = 0, left = None, right = None):\n",
    "#         self.val = val\n",
    "#         self.left = left\n",
    "#         self.right = right\n",
    "def bt_path(root: TreeNode) -> List[List[int]]:\n",
    "  # TODO"
   ]
  },
  {
   "cell_type": "markdown",
   "metadata": {},
   "source": [
    "<details>\n",
    "  <summary>Question 3</summary>\n",
    "\n",
    "  # Question Three: Missing Number in Range\n",
    " \n",
    "  You are given a list containing `n` integers in the range `[0, n]`. Return a list of numbers that are missing from the range `[0, n]` of the array. If there is no missing number, return -1. Note, all the integers in the list may not be unique.\n",
    "  \n",
    "  ## Examples\n",
    "\n",
    "  ### Example 1\n",
    "\n",
    "  Input: `lst = [0, 2]`\n",
    "\n",
    "  Output: [1]\n",
    "\n",
    "  ### Example 2\n",
    "\n",
    "  Input: `lst = [5, 0, 1]`\n",
    "\n",
    "  Output: [2, 3, 4]\n",
    "\n",
    "  ### Example 3\n",
    "\n",
    "  Input: `lst = [6, 8, 2, 3, 5, 7, 0, 1, 10]`\n",
    "\n",
    "  Output: [4, 9]\n",
    "\n",
    "</details>\n",
    "\n",
    "#### Starter Code for Question 3\n"
   ]
  },
  {
   "cell_type": "code",
   "execution_count": null,
   "metadata": {
    "scrolled": true
   },
   "outputs": [
    {
     "name": "stdout",
     "output_type": "stream",
     "text": [
      "Input: [0, 2] → Output: [1]\n",
      "Input: [5, 0, 1] → Output: [2, 3, 4]\n",
      "Input: [6, 8, 2, 3, 5, 7, 0, 1, 10] → Output: [4, 9]\n",
      "Input: [0, 1, 2, 3] → Output: [-1]\n",
      "Input: [] → Output: [-1]\n"
     ]
    }
   ],
   "source": [
    "from typing import List\n",
    "\n",
    "def missing_num(nums: List) -> int:\n",
    "    \"\"\"\n",
    "    Given a list of integers ranging from 0 to n (not necessarily unique),\n",
    "    return a list of missing numbers in that range.\n",
    "    If there are no missing numbers, return [-1].\n",
    "    \"\"\"\n",
    "    if not nums:\n",
    "        return [-1]\n",
    "    \n",
    "    n = max(nums)\n",
    "    full_range = set(range(n + 1))\n",
    "    present = set(nums)\n",
    "    \n",
    "    missing = sorted(full_range - present)\n",
    "    \n",
    "    return missing if missing else [-1]\n",
    "\n",
    "# Test cases\n",
    "print(\"Input: [0, 2] → Output:\", missing_num([0, 2]))                       # [1]\n",
    "print(\"Input: [5, 0, 1] → Output:\", missing_num([5, 0, 1]))                 # [2, 3, 4]\n",
    "print(\"Input: [6, 8, 2, 3, 5, 7, 0, 1, 10] → Output:\", missing_num([6, 8, 2, 3, 5, 7, 0, 1, 10]))  # [4, 9]\n",
    "print(\"Input: [0, 1, 2, 3] → Output:\", missing_num([0, 1, 2, 3]))           # [-1]\n",
    "print(\"Input: [] → Output:\", missing_num([]))                               # [-1]\n"
   ]
  },
  {
   "cell_type": "markdown",
   "metadata": {
    "jp-MarkdownHeadingCollapsed": true
   },
   "source": [
    "## Part 2:\n",
    "\n",
    "You and your partner must share each other's Assignment 1 submission."
   ]
  },
  {
   "cell_type": "markdown",
   "metadata": {},
   "source": [
    "My partner was assigned \"Question One: First Duplicate in List\"\n",
    "\n",
    "His assignment - https://github.com/deysoumyadey/algorithms_and_data_structures/pulls.\n"
   ]
  },
  {
   "cell_type": "markdown",
   "metadata": {},
   "source": [
    "\n",
    "## Part 3:\n",
    "\n",
    "Create a Jupyter Notebook, create 6 of the following headings, and complete the following for your partner's assignment 1:\n",
    "\n",
    "-   Paraphrase the problem in your own words.\n"
   ]
  },
  {
   "cell_type": "markdown",
   "metadata": {},
   "source": [
    "My answer Paraphrased - \n",
    "The task is to examine a list of integers and identify the first number that repeats when scanning the list from left to right. The goal is not to find all duplicates, but rather to detect the earliest repeating value in terms of position. If no such number exists, the output should be -1."
   ]
  },
  {
   "cell_type": "markdown",
   "metadata": {},
   "source": [
    "\n",
    "-   Create 1 new example that demonstrates you understand the problem. Trace/walkthrough 1 example that your partner made and explain it.\n"
   ]
  },
  {
   "cell_type": "markdown",
   "metadata": {},
   "source": [
    "1 New Example- \n",
    "\n",
    "Input: [9, 3, 2, 4, 3, 1]\n",
    "Output: 3\n",
    "Explanation: Scanning from left to right, the number 3 appears again after its first appearance. Although other duplicates may exist, 3 is the first repeated value encountered."
   ]
  },
  {
   "cell_type": "markdown",
   "metadata": {},
   "source": [
    "Walkthrough of Partner’s Example\n",
    "\n",
    "\n",
    "Example 1 \n",
    "\n",
    " Input: first_duplicate([4, 5, 5, 4, 6])\n",
    "\n",
    "Steps:\n",
    "\n",
    "4 → not seen\n",
    "\n",
    "5 → not seen\n",
    "\n",
    "next 5 → already seen → first duplicate\n",
    "\n",
    "4 repeats later, but 5 appeared first\n",
    "\n",
    "Output: 5\n",
    "\n",
    "\n",
    " Example 2\n",
    "\n",
    "Input: first_duplicate([5, 6, 7, 8, 6, 5, 4])\n",
    "\n",
    "Steps:\n",
    "\n",
    "5, 6, 7, 8 → all new\n",
    "\n",
    "next 6 → already seen → first duplicate\n",
    "\n",
    "even though 5 repeats again, 6 was the first to do so\n",
    "\n",
    "Output: 6"
   ]
  },
  {
   "cell_type": "markdown",
   "metadata": {},
   "source": [
    "\n",
    "-   Copy the solution your partner wrote. \n"
   ]
  },
  {
   "cell_type": "code",
   "execution_count": null,
   "metadata": {},
   "outputs": [],
   "source": [
    "# Your answer here\n",
    "\n",
    "from typing import List\n",
    "\n",
    "def first_duplicate(nums: List[int]) -> int:\n",
    "    seen = set()\n",
    "    for n in nums:\n",
    "        if n in seen:\n",
    "            return n\n",
    "        seen.add(n)\n",
    "    return -1\n"
   ]
  },
  {
   "cell_type": "markdown",
   "metadata": {},
   "source": [
    "\n",
    "-   Explain why their solution works in your own words.\n"
   ]
  },
  {
   "cell_type": "markdown",
   "metadata": {},
   "source": [
    "The solution works because it correctly finds the first number that repeats in the list when scanning from left to right.\n",
    "It uses a set named seen to keep track of numbers that have already appeared. As the loop goes through each number:\n",
    "If the number is already in the set, that means it has occurred before—so it is returned as the first duplicate.\n",
    "If it’s not in the set, the number is added, and the loop continues.\n",
    "If the loop finishes without returning anything, the function returns -1, meaning no duplicates were found.\n",
    "My partner showed this with test cases, like:\n",
    "\n",
    "\n",
    "assert first_duplicate([3, 1, 4, 2, 5, 1, 6]) == 1\n",
    "\n",
    "assert first_duplicate([7, 8, 9, 10]) == -1\n",
    "\n",
    "assert first_duplicate([4, 5, 6, 4, 6]) == 4\n",
    "\n",
    "These test cases pass because the logic is correct and the use of a set ensures fast lookup, making the solution both accurate and efficient."
   ]
  },
  {
   "cell_type": "markdown",
   "metadata": {},
   "source": [
    "\n",
    "-   Explain the problem’s time and space complexity in your own words.\n"
   ]
  },
  {
   "cell_type": "markdown",
   "metadata": {},
   "source": [
    "Time Complexity: O(n)\n",
    "The function loops through the list of n numbers once.\n",
    "Each lookup (n in seen) and insertion (seen.add(n)) is done in constant time on average, thanks to Python’s set implementation.\n",
    "So overall, the operations scale linearly with the input size.\n",
    "\n",
    "Space Complexity: O(n)\n",
    "In the worst case (no duplicates), all elements will be added to the seen set.\n",
    "This means the amount of memory used grows proportionally with the size of the input list."
   ]
  },
  {
   "cell_type": "markdown",
   "metadata": {},
   "source": [
    "\n",
    "-   Critique your partner's solution, including explanation, and if there is anything that should be adjusted.\n"
   ]
  },
  {
   "cell_type": "markdown",
   "metadata": {},
   "source": [
    "The solution is logically correct and efficiently identifies the first duplicate in a list using a set to track previously seen elements. However, there are a few areas where the solution could be improved:\n",
    "\n",
    "Strengths:\n",
    "\n",
    "1. Efficient use of a set for constant-time lookups.\n",
    "2. Compact and correct logic.\n",
    "3. Passes all expected test cases.\n",
    "\n",
    "Meaningful Areas for Improvement:\n",
    "\n",
    "1. Edge Case Handling Could Be Explicitly Considered - \n",
    "While the solution works for an empty list, it could be more robust by explicitly checking for empty or very short lists and documenting that behavior. This makes the function safer for integration in real-world pipelines where defensive programming matters.\n",
    "\n",
    "2. Scalability Consideration with Early Termination - \n",
    "The function terminates early on the first duplicate, which is great. However, for extremely large lists, there could be consideration of limiting the scan range or applying this in streaming scenarios. A note about performance limits might be helpful for production-grade use.\n",
    "\n",
    "3. Extensibility - \n",
    "The function is very specific to returning the first duplicate. In some use cases, there might be a need to return all duplicates or their indices. Modularizing the duplicate-checking logic into a helper function would make it easier to extend for such scenarios."
   ]
  },
  {
   "cell_type": "code",
   "execution_count": null,
   "metadata": {},
   "outputs": [
    {
     "name": "stdout",
     "output_type": "stream",
     "text": [
      "First duplicate (Example 1): 5\n",
      "All duplicates (Example 1): [4, 5]\n",
      "First duplicate (Example 2): 6\n",
      "All duplicates (Example 2): [5, 6]\n"
     ]
    }
   ],
   "source": [
    "# Your answer here\n",
    "\n",
    "from typing import List\n",
    "\n",
    "def find_first_duplicate(nums: List[int]) -> int:\n",
    "    \"\"\"\n",
    "    Returns the first integer that appears more than once in the list.\n",
    "    If no duplicates are found or the list is empty, returns -1.\n",
    "    \"\"\"\n",
    "    if len(nums) < 2:\n",
    "        return -1\n",
    "\n",
    "    seen = set()\n",
    "    for num in nums:\n",
    "        if num in seen:\n",
    "            return num\n",
    "        seen.add(num)\n",
    "    return -1\n",
    "\n",
    "\n",
    "def find_all_duplicates(nums: List[int]) -> List[int]:\n",
    "    \"\"\"\n",
    "    Returns a list of all duplicate values in the input list.\n",
    "    Sorted for readability. Returns an empty list if no duplicates are found.\n",
    "    \"\"\"\n",
    "    seen = set()\n",
    "    duplicates = set()\n",
    "    for num in nums:\n",
    "        if num in seen:\n",
    "            duplicates.add(num)\n",
    "        else:\n",
    "            seen.add(num)\n",
    "    return sorted(list(duplicates))\n",
    "\n",
    "\n",
    "# My Partner's Example 1\n",
    "example1 = [4, 5, 5, 4, 6]\n",
    "print(\"First duplicate (Example 1):\", find_first_duplicate(example1))     # Output: 5\n",
    "print(\"All duplicates (Example 1):\", find_all_duplicates(example1))       # Output: [4, 5]\n",
    "\n",
    "# My Partner's Example 2\n",
    "example2 = [5, 6, 7, 8, 6, 5, 4]\n",
    "print(\"First duplicate (Example 2):\", find_first_duplicate(example2))     # Output: 6\n",
    "print(\"All duplicates (Example 2):\", find_all_duplicates(example2))       # Output: [5, 6]\n"
   ]
  },
  {
   "cell_type": "markdown",
   "metadata": {},
   "source": [
    "\n",
    "## Part 4:\n",
    "\n",
    "Please write a 200 word reflection documenting your process from assignment 1, and your presentation and review experience with your partner at the bottom of the Jupyter Notebook under a new heading \"Reflection.\" Again, export this Notebook as pdf.\n"
   ]
  },
  {
   "cell_type": "markdown",
   "metadata": {},
   "source": [
    "### Reflection"
   ]
  },
  {
   "cell_type": "markdown",
   "metadata": {},
   "source": [
    "\n",
    "My Reflection-\n",
    "\n",
    "Working on Assignment 1 helped me practice solving a coding problem step by step, just like in a technical interview. I had to understand the question clearly, think through possible edge cases, and write code that gives the right answer. I also tested my solution with different inputs to make sure it worked well. This helped me get more confident with writing clean and efficient code.\n",
    "\n",
    "In Assignment 2, I reviewed my partner’s solution, which made me think differently. Instead of just solving the problem, I had to look at someone else’s code and think about what was good and what could be better. This felt similar to real-life code reviews in a team. I realized how small improvements—like handling edge cases or making code more flexible—can make a big difference.\n",
    "\n",
    "Going through my partner’s test cases and walking through the examples also helped me understand the logic better. I liked the discussion part because it showed how two people can solve the same problem in slightly different ways.\n",
    "\n",
    "Overall, both assignments gave me good practice—not just in coding, but in communication, problem-solving, and reviewing code with a critical mindset.\n",
    "\n",
    "\n"
   ]
  },
  {
   "cell_type": "markdown",
   "metadata": {},
   "source": [
    "\n",
    "## Evaluation Criteria\n",
    "\n",
    "We are looking for the similar points as Assignment 1\n",
    "\n",
    "-   Problem is accurately stated\n",
    "\n",
    "-   New example is correct and easily understandable\n",
    "\n",
    "-   Correctness, time, and space complexity of the coding solution\n",
    "\n",
    "-   Clarity in explaining why the solution works, its time and space complexity\n",
    "\n",
    "-   Quality of critique of your partner's assignment, if necessary\n"
   ]
  },
  {
   "cell_type": "markdown",
   "metadata": {},
   "source": [
    "## Submission Information\n",
    "\n",
    "🚨 **Please review our [Assignment Submission Guide](https://github.com/UofT-DSI/onboarding/blob/main/onboarding_documents/submissions.md)** 🚨 for detailed instructions on how to format, branch, and submit your work. Following these guidelines is crucial for your submissions to be evaluated correctly.\n",
    "\n",
    "### Submission Parameters:\n",
    "* Submission Due Date: `HH:MM AM/PM - DD/MM/YYYY`\n",
    "* The branch name for your repo should be: `assignment-2`\n",
    "* What to submit for this assignment:\n",
    "    * This Jupyter Notebook (assignment_2.ipynb) should be populated and should be the only change in your pull request.\n",
    "* What the pull request link should look like for this assignment: `https://github.com/<your_github_username>/algorithms_and_data_structures/pull/<pr_id>`\n",
    "    * Open a private window in your browser. Copy and paste the link to your pull request into the address bar. Make sure you can see your pull request properly. This helps the technical facilitator and learning support staff review your submission easily.\n",
    "\n",
    "Checklist:\n",
    "- [ ] Created a branch with the correct naming convention.\n",
    "- [ ] Ensured that the repository is public.\n",
    "- [ ] Reviewed the PR description guidelines and adhered to them.\n",
    "- [ ] Verify that the link is accessible in a private browser window.\n",
    "\n",
    "If you encounter any difficulties or have questions, please don't hesitate to reach out to our team via our Slack at `#cohort-6-help`. Our Technical Facilitators and Learning Support staff are here to help you navigate any challenges.\n"
   ]
  },
  {
   "cell_type": "code",
   "execution_count": null,
   "metadata": {},
   "outputs": [],
   "source": []
  }
 ],
 "metadata": {
  "kernelspec": {
   "display_name": "dsi_participant",
   "language": "python",
   "name": "python3"
  },
  "language_info": {
   "codemirror_mode": {
    "name": "ipython",
    "version": 3
   },
   "file_extension": ".py",
   "mimetype": "text/x-python",
   "name": "python",
   "nbconvert_exporter": "python",
   "pygments_lexer": "ipython3",
   "version": "3.9.21"
  }
 },
 "nbformat": 4,
 "nbformat_minor": 4
}
