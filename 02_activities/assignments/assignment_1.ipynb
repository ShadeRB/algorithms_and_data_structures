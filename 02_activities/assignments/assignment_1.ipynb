{
 "cells": [
  {
   "cell_type": "markdown",
   "metadata": {},
   "source": [
    "# Coding Problems\n",
    "\n",
    "## Objective\n",
    "\n",
    "This assignment aims to demonstrate how to study a data structures or algorithms question in depth to prepare for an industry coding interview. Leetcode is a popular coding practice site that many use to practice for technical interviews. Like behavioral interviews, it's important to practice and keep your skills sharp.\n",
    "\n",
    "## Group Size\n",
    "\n",
    "Please complete this individually.\n",
    "\n",
    "## Parts:\n",
    "- Part 1: Figure out the problem you have been assigned, and understand the problem\n",
    "- Part 2: Answer the questions about your assigned problem (including solving it)\n",
    "\n",
    "## Part 1:\n",
    "\n",
    "_*You will be assigned one of three problems based of your first name. Enter your first name, in all lower case, execute the code below, and that will tell you your assigned problem. Include the output as part of your submission (do not clear the output). The problems are based-off problems from Leetcode.*_\n"
   ]
  },
  {
   "cell_type": "code",
   "execution_count": 1,
   "metadata": {},
   "outputs": [
    {
     "name": "stdout",
     "output_type": "stream",
     "text": [
      "2\n"
     ]
    }
   ],
   "source": [
    "import hashlib\n",
    "\n",
    "def hash_to_range(input_string: str) -> int:\n",
    "     hash_object = hashlib.sha256(input_string.encode())\n",
    "     hash_int = int(hash_object.hexdigest(), 16)\n",
    "     return (hash_int % 3) + 1\n",
    "input_string = \"Ritu\"\n",
    "result = hash_to_range(input_string)\n",
    "print(result)\n"
   ]
  },
  {
   "cell_type": "markdown",
   "metadata": {},
   "source": [
    "## Question One: First Duplicate in List\n",
    "**Description**  \n",
    "Given a list of integers, return the **first value that appears more than once**. If there are multiple duplicates, return the one that appears **first** in the list. If no duplicate exists, return `-1`.\n",
    "\n",
    "**Examples**\n",
    "```python\n",
    "Input: nums = [3, 1, 4, 2, 5, 1, 6]\n",
    "Output: 1\n",
    "```\n",
    "```python\n",
    "Input: nums = [7, 8, 9, 10]\n",
    "Output: -1\n",
    "```\n",
    "```python\n",
    "Input: nums = [4, 5, 6, 4, 6]\n",
    "Output: 4\n",
    "```\n",
    "\n",
    "**Question 1 Starter Code**"
   ]
  },
  {
   "cell_type": "code",
   "execution_count": 2,
   "metadata": {},
   "outputs": [],
   "source": [
    "from typing import List\n",
    "\n",
    "def first_duplicate(nums: List[int]) -> int:\n",
    "    seen = set()\n",
    "    for num in nums:\n",
    "        if num in seen:\n",
    "            return num\n",
    "        seen.add(num)\n",
    "    return -1\n"
   ]
  },
  {
   "cell_type": "markdown",
   "metadata": {},
   "source": [
    "## Question Two: Valid Bracket Sequence\n",
    "**Description**  \n",
    "Given a string containing only the characters `'('`, `')'`, `'{'`, `'}'`, `'['`, and `']'`, determine if the input string is a **valid bracket sequence**.  \n",
    "A string is valid if:\n",
    "- Open brackets are closed by the same type of brackets, and\n",
    "- Open brackets are closed in the correct order.\n",
    "\n",
    "**Examples**\n",
    "```python\n",
    "Input: s = \"([]{})\"\n",
    "Output: True\n",
    "```\n",
    "```python\n",
    "Input: s = \"([)]\"\n",
    "Output: False\n",
    "```\n",
    "```python\n",
    "Input: s = \"()[]{}\"\n",
    "Output: True\n",
    "```\n",
    "```python\n",
    "Input: s = \"[{]}\"\n",
    "Output: False\n",
    "```\n",
    "\n",
    "**Question 2 Starter Code**"
   ]
  },
  {
   "cell_type": "code",
   "execution_count": 3,
   "metadata": {},
   "outputs": [],
   "source": [
    "\n",
    "\n",
    "def is_valid_brackets(s: str) -> bool:\n",
    "    stack = []\n",
    "    bracket_map = {')': '(', ']': '[', '}': '{'}\n",
    "    for char in s:\n",
    "        if char in bracket_map.values():\n",
    "            stack.append(char)\n",
    "        elif char in bracket_map:\n",
    "            if not stack or stack.pop() != bracket_map[char]:\n",
    "                return False\n",
    "    return not stack\n"
   ]
  },
  {
   "cell_type": "markdown",
   "metadata": {},
   "source": [
    "## Question Three: Move All Zeros to End\n",
    "**Description**  \n",
    "Given a list of integers, move all zeros to the end while maintaining the relative order of the non-zero elements. \n",
    "\n",
    "**Examples**\n",
    "```python\n",
    "Input: nums = [0, 1, 0, 3, 12]\n",
    "Output: [1, 3, 12, 0, 0]\n",
    "```\n",
    "```python\n",
    "Input: nums = [4, 0, 5, 0, 0, 6]\n",
    "Output: [4, 5, 6, 0, 0, 0]\n",
    "```\n"
   ]
  },
  {
   "cell_type": "code",
   "execution_count": 4,
   "metadata": {},
   "outputs": [],
   "source": [
    "from typing import List\n",
    "\n",
    "def move_zeros_to_end(nums: List[int]) -> List[int]:\n",
    "    result = [num for num in nums if num != 0]\n",
    "    zeros = [0] * (len(nums) - len(result))\n",
    "    return result + zeros\n",
    "\n",
    "\n"
   ]
  },
  {
   "cell_type": "markdown",
   "metadata": {},
   "source": [
    "\n",
    "## Part 2:\n",
    "\n",
    "-   Paraphrase the problem in your own words\n"
   ]
  },
  {
   "cell_type": "code",
   "execution_count": 5,
   "metadata": {},
   "outputs": [],
   "source": [
    "# Question 2 - Paraphrased:\n",
    "\n",
    "\n"
   ]
  },
  {
   "cell_type": "markdown",
   "metadata": {},
   "source": [
    "Answer- Paraphrased Description – Valid Bracket Sequence \n",
    "I’m given a string made up of only brackets — like (), {}, and [].\n",
    "\n",
    "My task is to check if the brackets are used correctly. That means:\n",
    "\n",
    "Every opening bracket must have a matching closing bracket.\n",
    "\n",
    "Brackets must close in the right order — the last one opened should be the first one closed.\n",
    "\n",
    "It’s like stacking boxes: I can’t close the outer box before closing the one inside.\n",
    "\n",
    "\"([]{})\"   → ✅ All brackets match and are in the right order  \n",
    "\"([)]\"     → ❌ Wrong order — I opened `[` but closed `)` first  \n",
    "\"()[]{}\"   → ✅ Each pair is correct, no nesting issues  \n",
    "\"[{]}\"     → ❌ The closing `}` doesn’t match the last opened `[`  \n"
   ]
  },
  {
   "cell_type": "markdown",
   "metadata": {},
   "source": [
    "In this .ipynb file, there are examples that illustrate how the code should work (the examples provided above). Create 2 new examples for the question you have been assigned, that demonstrate you understand the problem. For question 1 and 2, you don't need to create the tree demonstration, just the input and output.\n"
   ]
  },
  {
   "cell_type": "code",
   "execution_count": 6,
   "metadata": {},
   "outputs": [],
   "source": [
    "#Answer- \n",
    "Input: \"{[()()]}\"  \n",
    "Output: True  \n",
    "# Explanation: All brackets are properly nested and matched.\n",
    "\n",
    "Input: \"[({})](]\"  \n",
    "Output: False  \n",
    "# Explanation: The first part is valid, but the last `]` has no matching `[` before it.\n",
    "\n"
   ]
  },
  {
   "cell_type": "markdown",
   "metadata": {},
   "source": [
    "Code the solution to your assigned problem in Python (code chunk). Note: each problem can be solved more simply if you use an abstract data type that is suitable for that problem. Using that try to find the best time and space complexity solution!\n"
   ]
  },
  {
   "cell_type": "code",
   "execution_count": 7,
   "metadata": {},
   "outputs": [],
   "source": [
    "def is_valid_brackets(s: str) -> bool:\n",
    "    stack = []\n",
    "    bracket_map = {')': '(', ']': '[', '}': '{'}\n",
    "    \n",
    "    for char in s:\n",
    "        if char in bracket_map.values():  # opening brackets\n",
    "            stack.append(char)\n",
    "        elif char in bracket_map:         # closing brackets\n",
    "            if not stack or stack.pop() != bracket_map[char]:\n",
    "                return False\n",
    "    return not stack\n"
   ]
  },
  {
   "cell_type": "markdown",
   "metadata": {},
   "source": [
    "Explain why your solution works\n"
   ]
  },
  {
   "cell_type": "markdown",
   "metadata": {},
   "source": [
    "Answer - My solution uses a stack to keep track of opening brackets. When I see a closing bracket, I check if it matches the most recent opening bracket (on top of the stack). If it doesn’t match, I return False right away.\n",
    "\n",
    "If I reach the end and the stack is empty, that means every opening bracket had a matching closing bracket in the correct order — so I return True.\n",
    "\n",
    "This method works well because a stack naturally handles nested and ordered structures, like brackets.\n",
    "\n",
    "\n",
    "\n",
    "\n",
    "\n",
    "\n",
    "\n",
    "\n",
    "\n"
   ]
  },
  {
   "cell_type": "markdown",
   "metadata": {},
   "source": [
    "Explain the problem’s time and space complexity\n"
   ]
  },
  {
   "cell_type": "markdown",
   "metadata": {},
   "source": [
    "\n",
    " Answer- Time and  Space Complexity\n",
    "\n",
    "Time Complexity: `O(n)`\n",
    "I go through each character in the string once, doing constant-time operations like pushing or popping from the stack.\n",
    "\n",
    "Space Complexity: `O(n)`\n",
    "  \n",
    "In the worst case (like all opening brackets), I might store all characters in the stack.\n",
    "\n",
    "So, both time and space grow linearly with the length of the input string.\n"
   ]
  },
  {
   "cell_type": "markdown",
   "id": "fb374845",
   "metadata": {},
   "source": [
    "\n",
    "Example:\n",
    "Input: \"({[]})\"  \n",
    "Output: True\n",
    "\n",
    "Explanation:\n",
    "Each opening bracket is properly closed in the right order. A stack keeps track of the latest open bracket and matches it with the corresponding closing one.\n",
    "\n",
    " Time and Space Complexity:\n",
    "- Time: O(n), where n is the length of the string\n",
    "- Space: O(n), in case all are opening brackets\n",
    "\n",
    "Alternative Solution:\n",
    "We could attempt recursion or use counters, but they fail for improperly nested brackets like `([)]`, making the stack a more reliable choice.\n"
   ]
  },
  {
   "cell_type": "markdown",
   "id": "eda6dccd",
   "metadata": {},
   "source": [
    "\n",
    "Example 2:\n",
    "Input: \"([)]\"  \n",
    "Output: False\n",
    "\n",
    "Explanation: Although the counts are balanced, the closing `)` does not match the latest opened `[`, so the sequence is invalid.\n"
   ]
  },
  {
   "cell_type": "markdown",
   "metadata": {},
   "source": [
    "Answer- Alternative Solution (Conceptual)\n",
    "Instead of using a stack, I could try keeping three separate counters — one for each type of bracket: (), {}, and [].\n",
    "\n",
    "For example:\n",
    "\n",
    "Increase the counter when I see an opening bracket.\n",
    "\n",
    "Decrease it when I see a closing bracket of the same type.\n",
    "\n",
    "If all counters end at zero, I might assume the string is valid.\n",
    " But here's the catch:\n",
    "This approach fails for cases where the brackets are not closed in the correct order — like \"([)]\" — because counters don’t track nesting.\n",
    "\n",
    "So, while it’s easy to code, it doesn't handle all cases correctly.\n",
    "That’s why using a stack is the better choice when order matters."
   ]
  },
  {
   "cell_type": "markdown",
   "metadata": {},
   "source": [
    "## Evaluation Criteria\n",
    "\n",
    "-   Problem is accurately stated\n",
    "\n",
    "-   Two examples are correct and easily understandable\n",
    "\n",
    "-   Correctness, time, and space complexity of the coding solution\n",
    "\n",
    "-   Clarity in explaining why the solution works, its time and space complexity\n",
    "\n",
    "-   Clarity in the proposal to the alternative solution"
   ]
  },
  {
   "cell_type": "markdown",
   "metadata": {},
   "source": [
    "## Submission Information\n",
    "\n",
    "🚨 **Please review our [Assignment Submission Guide](https://github.com/UofT-DSI/onboarding/blob/main/onboarding_documents/submissions.md)** 🚨 for detailed instructions on how to format, branch, and submit your work. Following these guidelines is crucial for your submissions to be evaluated correctly.\n",
    "\n",
    "### Submission Parameters:\n",
    "* Submission Due Date: `HH:MM AM/PM - DD/MM/YYYY`\n",
    "* The branch name for your repo should be: `assignment-1`\n",
    "* What to submit for this assignment:\n",
    "    * This Jupyter Notebook (assignment_1.ipynb) should be populated and should be the only change in your pull request.\n",
    "* What the pull request link should look like for this assignment: `https://github.com/<your_github_username>/algorithms_and_data_structures/pull/<pr_id>`\n",
    "    * Open a private window in your browser. Copy and paste the link to your pull request into the address bar. Make sure you can see your pull request properly. This helps the technical facilitator and learning support staff review your submission easily.\n",
    "\n",
    "Checklist:\n",
    "- [ ] Create a branch called `assignment-1`.\n",
    "- [ ] Ensure that the repository is public.\n",
    "- [ ] Review [the PR description guidelines](https://github.com/UofT-DSI/onboarding/blob/main/onboarding_documents/submissions.md#guidelines-for-pull-request-descriptions) and adhere to them.\n",
    "- [ ] Verify that the link is accessible in a private browser window.\n",
    "\n",
    "If you encounter any difficulties or have questions, please don't hesitate to reach out to our team via our Slack at `#cohort-3-help`. Our Technical Facilitators and Learning Support staff are here to help you navigate any challenges."
   ]
  }
 ],
 "metadata": {
  "kernelspec": {
   "display_name": "dsi_participant",
   "language": "python",
   "name": "python3"
  },
  "language_info": {
   "codemirror_mode": {
    "name": "ipython",
    "version": 3
   },
   "file_extension": ".py",
   "mimetype": "text/x-python",
   "name": "python",
   "nbconvert_exporter": "python",
   "pygments_lexer": "ipython3",
   "version": "3.9.21"
  }
 },
 "nbformat": 4,
 "nbformat_minor": 4
}
